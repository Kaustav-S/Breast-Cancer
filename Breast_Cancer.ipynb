{
  "nbformat": 4,
  "nbformat_minor": 0,
  "metadata": {
    "colab": {
      "name": "Breast_Cancer.ipynb",
      "provenance": [],
      "collapsed_sections": [],
      "machine_shape": "hm"
    },
    "kernelspec": {
      "name": "python3",
      "display_name": "Python 3"
    },
    "language_info": {
      "name": "python"
    },
    "accelerator": "GPU"
  },
  "cells": [
    {
      "cell_type": "markdown",
      "metadata": {
        "id": "yQdo9U3GHvyL"
      },
      "source": [
        "### Description\n",
        "\n",
        "Features are computed from a digitized image of a fine needle aspirate (FNA) of a breast mass. They describe characteristics of the cell nuclei present in the image.\n",
        "n the 3-dimensional space is that described in: [K. P. Bennett and O. L. Mangasarian: \"Robust Linear Programming Discrimination of Two Linearly Inseparable Sets\", Optimization Methods and Software 1, 1992, 23-34].\n",
        "\n",
        "This database is also available through the UW CS ftp server:\n",
        "ftp ftp.cs.wisc.edu\n",
        "cd math-prog/cpo-dataset/machine-learn/WDBC/\n",
        "\n",
        "Also can be found on UCI Machine Learning Repository: https://archive.ics.uci.edu/ml/datasets/Breast+Cancer+Wisconsin+%28Diagnostic%29\n",
        "\n",
        "Attribute Information:\n",
        "\n",
        "1) ID number\n",
        "2) Diagnosis (M = malignant, B = benign)\n",
        "3-32)\n",
        "\n",
        "Ten real-valued features are computed for each cell nucleus:\n",
        "\n",
        "a) radius (mean of distances from center to points on the perimeter)\n",
        "b) texture (standard deviation of gray-scale values)\n",
        "c) perimeter\n",
        "d) area\n",
        "e) smoothness (local variation in radius lengths)\n",
        "f) compactness (perimeter^2 / area - 1.0)\n",
        "g) concavity (severity of concave portions of the contour)\n",
        "h) concave points (number of concave portions of the contour)\n",
        "i) symmetry\n",
        "j) fractal dimension (\"coastline approximation\" - 1)\n",
        "\n",
        "The mean, standard error and \"worst\" or largest (mean of the three\n",
        "largest values) of these features were computed for each image,\n",
        "resulting in 30 features. For instance, field 3 is Mean Radius, field\n",
        "13 is Radius SE, field 23 is Worst Radius.\n",
        "\n",
        "All feature values are recoded with four significant digits.\n",
        "\n",
        "Missing attribute values: none\n",
        "\n",
        "Class distribution: 357 benign, 212 malignant"
      ]
    },
    {
      "cell_type": "code",
      "metadata": {
        "id": "qc2YR3pFaeJf"
      },
      "source": [
        "import numpy as np\n",
        "import matplotlib.pyplot as plt\n",
        "import pandas as pd\n",
        "import seaborn as sns\n",
        "import tensorflow as tf\n",
        "import random as python_random\n",
        "from sklearn.model_selection import train_test_split\n",
        "from sklearn.preprocessing import StandardScaler\n",
        "from sklearn.svm import SVC\n",
        "from numpy import loadtxt\n",
        "from keras.models import Sequential \n",
        "from keras.layers import Dense\n",
        "from sklearn.metrics import f1_score\n",
        "from sklearn.datasets import make_circles\n",
        "from sklearn.metrics import accuracy_score\n",
        "from sklearn.metrics import precision_score\n",
        "from sklearn.metrics import recall_score\n",
        "from sklearn.metrics import f1_score\n",
        "from sklearn.metrics import cohen_kappa_score\n",
        "from sklearn.metrics import roc_auc_score\n",
        "from sklearn.metrics import confusion_matrix\n",
        "from keras.models import Sequential\n",
        "from keras.layers import Dense"
      ],
      "execution_count": null,
      "outputs": []
    },
    {
      "cell_type": "code",
      "metadata": {
        "id": "OTxm0n3ZbAMi"
      },
      "source": [
        "from sklearn import datasets"
      ],
      "execution_count": null,
      "outputs": []
    },
    {
      "cell_type": "code",
      "metadata": {
        "colab": {
          "base_uri": "https://localhost:8080/"
        },
        "id": "KVpkw3PUbLxD",
        "outputId": "5f324d94-da74-42ef-e2c1-4588fdf7e9a4"
      },
      "source": [
        "data=datasets.load_breast_cancer()\n",
        "print(data.feature_names)"
      ],
      "execution_count": null,
      "outputs": [
        {
          "output_type": "stream",
          "name": "stdout",
          "text": [
            "['mean radius' 'mean texture' 'mean perimeter' 'mean area'\n",
            " 'mean smoothness' 'mean compactness' 'mean concavity'\n",
            " 'mean concave points' 'mean symmetry' 'mean fractal dimension'\n",
            " 'radius error' 'texture error' 'perimeter error' 'area error'\n",
            " 'smoothness error' 'compactness error' 'concavity error'\n",
            " 'concave points error' 'symmetry error' 'fractal dimension error'\n",
            " 'worst radius' 'worst texture' 'worst perimeter' 'worst area'\n",
            " 'worst smoothness' 'worst compactness' 'worst concavity'\n",
            " 'worst concave points' 'worst symmetry' 'worst fractal dimension']\n"
          ]
        }
      ]
    },
    {
      "cell_type": "code",
      "metadata": {
        "id": "nQDEApV6cJ0o"
      },
      "source": [
        "df=pd.DataFrame(data=data.data,columns=data.feature_names)\n",
        "df['target']=pd.Series(data.target)"
      ],
      "execution_count": null,
      "outputs": []
    },
    {
      "cell_type": "code",
      "metadata": {
        "colab": {
          "base_uri": "https://localhost:8080/"
        },
        "id": "nnxw-ICoJ4nL",
        "outputId": "dfe195a7-50b3-4c28-d734-5205fef022ed"
      },
      "source": [
        "df.shape"
      ],
      "execution_count": null,
      "outputs": [
        {
          "output_type": "execute_result",
          "data": {
            "text/plain": [
              "(569, 31)"
            ]
          },
          "metadata": {},
          "execution_count": 5
        }
      ]
    },
    {
      "cell_type": "code",
      "metadata": {
        "colab": {
          "base_uri": "https://localhost:8080/",
          "height": 418
        },
        "id": "KPxlQ4o8ccz6",
        "outputId": "354a79ea-2cc1-412c-f9cc-66f2a3c423ab"
      },
      "source": [
        "df.head(n=10)"
      ],
      "execution_count": null,
      "outputs": [
        {
          "output_type": "execute_result",
          "data": {
            "text/html": [
              "<div>\n",
              "<style scoped>\n",
              "    .dataframe tbody tr th:only-of-type {\n",
              "        vertical-align: middle;\n",
              "    }\n",
              "\n",
              "    .dataframe tbody tr th {\n",
              "        vertical-align: top;\n",
              "    }\n",
              "\n",
              "    .dataframe thead th {\n",
              "        text-align: right;\n",
              "    }\n",
              "</style>\n",
              "<table border=\"1\" class=\"dataframe\">\n",
              "  <thead>\n",
              "    <tr style=\"text-align: right;\">\n",
              "      <th></th>\n",
              "      <th>mean radius</th>\n",
              "      <th>mean texture</th>\n",
              "      <th>mean perimeter</th>\n",
              "      <th>mean area</th>\n",
              "      <th>mean smoothness</th>\n",
              "      <th>mean compactness</th>\n",
              "      <th>mean concavity</th>\n",
              "      <th>mean concave points</th>\n",
              "      <th>mean symmetry</th>\n",
              "      <th>mean fractal dimension</th>\n",
              "      <th>radius error</th>\n",
              "      <th>texture error</th>\n",
              "      <th>perimeter error</th>\n",
              "      <th>area error</th>\n",
              "      <th>smoothness error</th>\n",
              "      <th>compactness error</th>\n",
              "      <th>concavity error</th>\n",
              "      <th>concave points error</th>\n",
              "      <th>symmetry error</th>\n",
              "      <th>fractal dimension error</th>\n",
              "      <th>worst radius</th>\n",
              "      <th>worst texture</th>\n",
              "      <th>worst perimeter</th>\n",
              "      <th>worst area</th>\n",
              "      <th>worst smoothness</th>\n",
              "      <th>worst compactness</th>\n",
              "      <th>worst concavity</th>\n",
              "      <th>worst concave points</th>\n",
              "      <th>worst symmetry</th>\n",
              "      <th>worst fractal dimension</th>\n",
              "      <th>target</th>\n",
              "    </tr>\n",
              "  </thead>\n",
              "  <tbody>\n",
              "    <tr>\n",
              "      <th>0</th>\n",
              "      <td>17.99</td>\n",
              "      <td>10.38</td>\n",
              "      <td>122.80</td>\n",
              "      <td>1001.0</td>\n",
              "      <td>0.11840</td>\n",
              "      <td>0.27760</td>\n",
              "      <td>0.30010</td>\n",
              "      <td>0.14710</td>\n",
              "      <td>0.2419</td>\n",
              "      <td>0.07871</td>\n",
              "      <td>1.0950</td>\n",
              "      <td>0.9053</td>\n",
              "      <td>8.589</td>\n",
              "      <td>153.40</td>\n",
              "      <td>0.006399</td>\n",
              "      <td>0.04904</td>\n",
              "      <td>0.05373</td>\n",
              "      <td>0.01587</td>\n",
              "      <td>0.03003</td>\n",
              "      <td>0.006193</td>\n",
              "      <td>25.38</td>\n",
              "      <td>17.33</td>\n",
              "      <td>184.60</td>\n",
              "      <td>2019.0</td>\n",
              "      <td>0.1622</td>\n",
              "      <td>0.6656</td>\n",
              "      <td>0.7119</td>\n",
              "      <td>0.2654</td>\n",
              "      <td>0.4601</td>\n",
              "      <td>0.11890</td>\n",
              "      <td>0</td>\n",
              "    </tr>\n",
              "    <tr>\n",
              "      <th>1</th>\n",
              "      <td>20.57</td>\n",
              "      <td>17.77</td>\n",
              "      <td>132.90</td>\n",
              "      <td>1326.0</td>\n",
              "      <td>0.08474</td>\n",
              "      <td>0.07864</td>\n",
              "      <td>0.08690</td>\n",
              "      <td>0.07017</td>\n",
              "      <td>0.1812</td>\n",
              "      <td>0.05667</td>\n",
              "      <td>0.5435</td>\n",
              "      <td>0.7339</td>\n",
              "      <td>3.398</td>\n",
              "      <td>74.08</td>\n",
              "      <td>0.005225</td>\n",
              "      <td>0.01308</td>\n",
              "      <td>0.01860</td>\n",
              "      <td>0.01340</td>\n",
              "      <td>0.01389</td>\n",
              "      <td>0.003532</td>\n",
              "      <td>24.99</td>\n",
              "      <td>23.41</td>\n",
              "      <td>158.80</td>\n",
              "      <td>1956.0</td>\n",
              "      <td>0.1238</td>\n",
              "      <td>0.1866</td>\n",
              "      <td>0.2416</td>\n",
              "      <td>0.1860</td>\n",
              "      <td>0.2750</td>\n",
              "      <td>0.08902</td>\n",
              "      <td>0</td>\n",
              "    </tr>\n",
              "    <tr>\n",
              "      <th>2</th>\n",
              "      <td>19.69</td>\n",
              "      <td>21.25</td>\n",
              "      <td>130.00</td>\n",
              "      <td>1203.0</td>\n",
              "      <td>0.10960</td>\n",
              "      <td>0.15990</td>\n",
              "      <td>0.19740</td>\n",
              "      <td>0.12790</td>\n",
              "      <td>0.2069</td>\n",
              "      <td>0.05999</td>\n",
              "      <td>0.7456</td>\n",
              "      <td>0.7869</td>\n",
              "      <td>4.585</td>\n",
              "      <td>94.03</td>\n",
              "      <td>0.006150</td>\n",
              "      <td>0.04006</td>\n",
              "      <td>0.03832</td>\n",
              "      <td>0.02058</td>\n",
              "      <td>0.02250</td>\n",
              "      <td>0.004571</td>\n",
              "      <td>23.57</td>\n",
              "      <td>25.53</td>\n",
              "      <td>152.50</td>\n",
              "      <td>1709.0</td>\n",
              "      <td>0.1444</td>\n",
              "      <td>0.4245</td>\n",
              "      <td>0.4504</td>\n",
              "      <td>0.2430</td>\n",
              "      <td>0.3613</td>\n",
              "      <td>0.08758</td>\n",
              "      <td>0</td>\n",
              "    </tr>\n",
              "    <tr>\n",
              "      <th>3</th>\n",
              "      <td>11.42</td>\n",
              "      <td>20.38</td>\n",
              "      <td>77.58</td>\n",
              "      <td>386.1</td>\n",
              "      <td>0.14250</td>\n",
              "      <td>0.28390</td>\n",
              "      <td>0.24140</td>\n",
              "      <td>0.10520</td>\n",
              "      <td>0.2597</td>\n",
              "      <td>0.09744</td>\n",
              "      <td>0.4956</td>\n",
              "      <td>1.1560</td>\n",
              "      <td>3.445</td>\n",
              "      <td>27.23</td>\n",
              "      <td>0.009110</td>\n",
              "      <td>0.07458</td>\n",
              "      <td>0.05661</td>\n",
              "      <td>0.01867</td>\n",
              "      <td>0.05963</td>\n",
              "      <td>0.009208</td>\n",
              "      <td>14.91</td>\n",
              "      <td>26.50</td>\n",
              "      <td>98.87</td>\n",
              "      <td>567.7</td>\n",
              "      <td>0.2098</td>\n",
              "      <td>0.8663</td>\n",
              "      <td>0.6869</td>\n",
              "      <td>0.2575</td>\n",
              "      <td>0.6638</td>\n",
              "      <td>0.17300</td>\n",
              "      <td>0</td>\n",
              "    </tr>\n",
              "    <tr>\n",
              "      <th>4</th>\n",
              "      <td>20.29</td>\n",
              "      <td>14.34</td>\n",
              "      <td>135.10</td>\n",
              "      <td>1297.0</td>\n",
              "      <td>0.10030</td>\n",
              "      <td>0.13280</td>\n",
              "      <td>0.19800</td>\n",
              "      <td>0.10430</td>\n",
              "      <td>0.1809</td>\n",
              "      <td>0.05883</td>\n",
              "      <td>0.7572</td>\n",
              "      <td>0.7813</td>\n",
              "      <td>5.438</td>\n",
              "      <td>94.44</td>\n",
              "      <td>0.011490</td>\n",
              "      <td>0.02461</td>\n",
              "      <td>0.05688</td>\n",
              "      <td>0.01885</td>\n",
              "      <td>0.01756</td>\n",
              "      <td>0.005115</td>\n",
              "      <td>22.54</td>\n",
              "      <td>16.67</td>\n",
              "      <td>152.20</td>\n",
              "      <td>1575.0</td>\n",
              "      <td>0.1374</td>\n",
              "      <td>0.2050</td>\n",
              "      <td>0.4000</td>\n",
              "      <td>0.1625</td>\n",
              "      <td>0.2364</td>\n",
              "      <td>0.07678</td>\n",
              "      <td>0</td>\n",
              "    </tr>\n",
              "    <tr>\n",
              "      <th>5</th>\n",
              "      <td>12.45</td>\n",
              "      <td>15.70</td>\n",
              "      <td>82.57</td>\n",
              "      <td>477.1</td>\n",
              "      <td>0.12780</td>\n",
              "      <td>0.17000</td>\n",
              "      <td>0.15780</td>\n",
              "      <td>0.08089</td>\n",
              "      <td>0.2087</td>\n",
              "      <td>0.07613</td>\n",
              "      <td>0.3345</td>\n",
              "      <td>0.8902</td>\n",
              "      <td>2.217</td>\n",
              "      <td>27.19</td>\n",
              "      <td>0.007510</td>\n",
              "      <td>0.03345</td>\n",
              "      <td>0.03672</td>\n",
              "      <td>0.01137</td>\n",
              "      <td>0.02165</td>\n",
              "      <td>0.005082</td>\n",
              "      <td>15.47</td>\n",
              "      <td>23.75</td>\n",
              "      <td>103.40</td>\n",
              "      <td>741.6</td>\n",
              "      <td>0.1791</td>\n",
              "      <td>0.5249</td>\n",
              "      <td>0.5355</td>\n",
              "      <td>0.1741</td>\n",
              "      <td>0.3985</td>\n",
              "      <td>0.12440</td>\n",
              "      <td>0</td>\n",
              "    </tr>\n",
              "    <tr>\n",
              "      <th>6</th>\n",
              "      <td>18.25</td>\n",
              "      <td>19.98</td>\n",
              "      <td>119.60</td>\n",
              "      <td>1040.0</td>\n",
              "      <td>0.09463</td>\n",
              "      <td>0.10900</td>\n",
              "      <td>0.11270</td>\n",
              "      <td>0.07400</td>\n",
              "      <td>0.1794</td>\n",
              "      <td>0.05742</td>\n",
              "      <td>0.4467</td>\n",
              "      <td>0.7732</td>\n",
              "      <td>3.180</td>\n",
              "      <td>53.91</td>\n",
              "      <td>0.004314</td>\n",
              "      <td>0.01382</td>\n",
              "      <td>0.02254</td>\n",
              "      <td>0.01039</td>\n",
              "      <td>0.01369</td>\n",
              "      <td>0.002179</td>\n",
              "      <td>22.88</td>\n",
              "      <td>27.66</td>\n",
              "      <td>153.20</td>\n",
              "      <td>1606.0</td>\n",
              "      <td>0.1442</td>\n",
              "      <td>0.2576</td>\n",
              "      <td>0.3784</td>\n",
              "      <td>0.1932</td>\n",
              "      <td>0.3063</td>\n",
              "      <td>0.08368</td>\n",
              "      <td>0</td>\n",
              "    </tr>\n",
              "    <tr>\n",
              "      <th>7</th>\n",
              "      <td>13.71</td>\n",
              "      <td>20.83</td>\n",
              "      <td>90.20</td>\n",
              "      <td>577.9</td>\n",
              "      <td>0.11890</td>\n",
              "      <td>0.16450</td>\n",
              "      <td>0.09366</td>\n",
              "      <td>0.05985</td>\n",
              "      <td>0.2196</td>\n",
              "      <td>0.07451</td>\n",
              "      <td>0.5835</td>\n",
              "      <td>1.3770</td>\n",
              "      <td>3.856</td>\n",
              "      <td>50.96</td>\n",
              "      <td>0.008805</td>\n",
              "      <td>0.03029</td>\n",
              "      <td>0.02488</td>\n",
              "      <td>0.01448</td>\n",
              "      <td>0.01486</td>\n",
              "      <td>0.005412</td>\n",
              "      <td>17.06</td>\n",
              "      <td>28.14</td>\n",
              "      <td>110.60</td>\n",
              "      <td>897.0</td>\n",
              "      <td>0.1654</td>\n",
              "      <td>0.3682</td>\n",
              "      <td>0.2678</td>\n",
              "      <td>0.1556</td>\n",
              "      <td>0.3196</td>\n",
              "      <td>0.11510</td>\n",
              "      <td>0</td>\n",
              "    </tr>\n",
              "    <tr>\n",
              "      <th>8</th>\n",
              "      <td>13.00</td>\n",
              "      <td>21.82</td>\n",
              "      <td>87.50</td>\n",
              "      <td>519.8</td>\n",
              "      <td>0.12730</td>\n",
              "      <td>0.19320</td>\n",
              "      <td>0.18590</td>\n",
              "      <td>0.09353</td>\n",
              "      <td>0.2350</td>\n",
              "      <td>0.07389</td>\n",
              "      <td>0.3063</td>\n",
              "      <td>1.0020</td>\n",
              "      <td>2.406</td>\n",
              "      <td>24.32</td>\n",
              "      <td>0.005731</td>\n",
              "      <td>0.03502</td>\n",
              "      <td>0.03553</td>\n",
              "      <td>0.01226</td>\n",
              "      <td>0.02143</td>\n",
              "      <td>0.003749</td>\n",
              "      <td>15.49</td>\n",
              "      <td>30.73</td>\n",
              "      <td>106.20</td>\n",
              "      <td>739.3</td>\n",
              "      <td>0.1703</td>\n",
              "      <td>0.5401</td>\n",
              "      <td>0.5390</td>\n",
              "      <td>0.2060</td>\n",
              "      <td>0.4378</td>\n",
              "      <td>0.10720</td>\n",
              "      <td>0</td>\n",
              "    </tr>\n",
              "    <tr>\n",
              "      <th>9</th>\n",
              "      <td>12.46</td>\n",
              "      <td>24.04</td>\n",
              "      <td>83.97</td>\n",
              "      <td>475.9</td>\n",
              "      <td>0.11860</td>\n",
              "      <td>0.23960</td>\n",
              "      <td>0.22730</td>\n",
              "      <td>0.08543</td>\n",
              "      <td>0.2030</td>\n",
              "      <td>0.08243</td>\n",
              "      <td>0.2976</td>\n",
              "      <td>1.5990</td>\n",
              "      <td>2.039</td>\n",
              "      <td>23.94</td>\n",
              "      <td>0.007149</td>\n",
              "      <td>0.07217</td>\n",
              "      <td>0.07743</td>\n",
              "      <td>0.01432</td>\n",
              "      <td>0.01789</td>\n",
              "      <td>0.010080</td>\n",
              "      <td>15.09</td>\n",
              "      <td>40.68</td>\n",
              "      <td>97.65</td>\n",
              "      <td>711.4</td>\n",
              "      <td>0.1853</td>\n",
              "      <td>1.0580</td>\n",
              "      <td>1.1050</td>\n",
              "      <td>0.2210</td>\n",
              "      <td>0.4366</td>\n",
              "      <td>0.20750</td>\n",
              "      <td>0</td>\n",
              "    </tr>\n",
              "  </tbody>\n",
              "</table>\n",
              "</div>"
            ],
            "text/plain": [
              "   mean radius  mean texture  ...  worst fractal dimension  target\n",
              "0        17.99         10.38  ...                  0.11890       0\n",
              "1        20.57         17.77  ...                  0.08902       0\n",
              "2        19.69         21.25  ...                  0.08758       0\n",
              "3        11.42         20.38  ...                  0.17300       0\n",
              "4        20.29         14.34  ...                  0.07678       0\n",
              "5        12.45         15.70  ...                  0.12440       0\n",
              "6        18.25         19.98  ...                  0.08368       0\n",
              "7        13.71         20.83  ...                  0.11510       0\n",
              "8        13.00         21.82  ...                  0.10720       0\n",
              "9        12.46         24.04  ...                  0.20750       0\n",
              "\n",
              "[10 rows x 31 columns]"
            ]
          },
          "metadata": {},
          "execution_count": 6
        }
      ]
    },
    {
      "cell_type": "code",
      "metadata": {
        "colab": {
          "base_uri": "https://localhost:8080/",
          "height": 355
        },
        "id": "Ni7ZMkFDIom5",
        "outputId": "deee9109-0b04-46fc-d844-c5c82208d736"
      },
      "source": [
        "df.describe()"
      ],
      "execution_count": null,
      "outputs": [
        {
          "output_type": "execute_result",
          "data": {
            "text/html": [
              "<div>\n",
              "<style scoped>\n",
              "    .dataframe tbody tr th:only-of-type {\n",
              "        vertical-align: middle;\n",
              "    }\n",
              "\n",
              "    .dataframe tbody tr th {\n",
              "        vertical-align: top;\n",
              "    }\n",
              "\n",
              "    .dataframe thead th {\n",
              "        text-align: right;\n",
              "    }\n",
              "</style>\n",
              "<table border=\"1\" class=\"dataframe\">\n",
              "  <thead>\n",
              "    <tr style=\"text-align: right;\">\n",
              "      <th></th>\n",
              "      <th>mean radius</th>\n",
              "      <th>mean texture</th>\n",
              "      <th>mean perimeter</th>\n",
              "      <th>mean area</th>\n",
              "      <th>mean smoothness</th>\n",
              "      <th>mean compactness</th>\n",
              "      <th>mean concavity</th>\n",
              "      <th>mean concave points</th>\n",
              "      <th>mean symmetry</th>\n",
              "      <th>mean fractal dimension</th>\n",
              "      <th>radius error</th>\n",
              "      <th>texture error</th>\n",
              "      <th>perimeter error</th>\n",
              "      <th>area error</th>\n",
              "      <th>smoothness error</th>\n",
              "      <th>compactness error</th>\n",
              "      <th>concavity error</th>\n",
              "      <th>concave points error</th>\n",
              "      <th>symmetry error</th>\n",
              "      <th>fractal dimension error</th>\n",
              "      <th>worst radius</th>\n",
              "      <th>worst texture</th>\n",
              "      <th>worst perimeter</th>\n",
              "      <th>worst area</th>\n",
              "      <th>worst smoothness</th>\n",
              "      <th>worst compactness</th>\n",
              "      <th>worst concavity</th>\n",
              "      <th>worst concave points</th>\n",
              "      <th>worst symmetry</th>\n",
              "      <th>worst fractal dimension</th>\n",
              "      <th>target</th>\n",
              "    </tr>\n",
              "  </thead>\n",
              "  <tbody>\n",
              "    <tr>\n",
              "      <th>count</th>\n",
              "      <td>569.000000</td>\n",
              "      <td>569.000000</td>\n",
              "      <td>569.000000</td>\n",
              "      <td>569.000000</td>\n",
              "      <td>569.000000</td>\n",
              "      <td>569.000000</td>\n",
              "      <td>569.000000</td>\n",
              "      <td>569.000000</td>\n",
              "      <td>569.000000</td>\n",
              "      <td>569.000000</td>\n",
              "      <td>569.000000</td>\n",
              "      <td>569.000000</td>\n",
              "      <td>569.000000</td>\n",
              "      <td>569.000000</td>\n",
              "      <td>569.000000</td>\n",
              "      <td>569.000000</td>\n",
              "      <td>569.000000</td>\n",
              "      <td>569.000000</td>\n",
              "      <td>569.000000</td>\n",
              "      <td>569.000000</td>\n",
              "      <td>569.000000</td>\n",
              "      <td>569.000000</td>\n",
              "      <td>569.000000</td>\n",
              "      <td>569.000000</td>\n",
              "      <td>569.000000</td>\n",
              "      <td>569.000000</td>\n",
              "      <td>569.000000</td>\n",
              "      <td>569.000000</td>\n",
              "      <td>569.000000</td>\n",
              "      <td>569.000000</td>\n",
              "      <td>569.000000</td>\n",
              "    </tr>\n",
              "    <tr>\n",
              "      <th>mean</th>\n",
              "      <td>14.127292</td>\n",
              "      <td>19.289649</td>\n",
              "      <td>91.969033</td>\n",
              "      <td>654.889104</td>\n",
              "      <td>0.096360</td>\n",
              "      <td>0.104341</td>\n",
              "      <td>0.088799</td>\n",
              "      <td>0.048919</td>\n",
              "      <td>0.181162</td>\n",
              "      <td>0.062798</td>\n",
              "      <td>0.405172</td>\n",
              "      <td>1.216853</td>\n",
              "      <td>2.866059</td>\n",
              "      <td>40.337079</td>\n",
              "      <td>0.007041</td>\n",
              "      <td>0.025478</td>\n",
              "      <td>0.031894</td>\n",
              "      <td>0.011796</td>\n",
              "      <td>0.020542</td>\n",
              "      <td>0.003795</td>\n",
              "      <td>16.269190</td>\n",
              "      <td>25.677223</td>\n",
              "      <td>107.261213</td>\n",
              "      <td>880.583128</td>\n",
              "      <td>0.132369</td>\n",
              "      <td>0.254265</td>\n",
              "      <td>0.272188</td>\n",
              "      <td>0.114606</td>\n",
              "      <td>0.290076</td>\n",
              "      <td>0.083946</td>\n",
              "      <td>0.627417</td>\n",
              "    </tr>\n",
              "    <tr>\n",
              "      <th>std</th>\n",
              "      <td>3.524049</td>\n",
              "      <td>4.301036</td>\n",
              "      <td>24.298981</td>\n",
              "      <td>351.914129</td>\n",
              "      <td>0.014064</td>\n",
              "      <td>0.052813</td>\n",
              "      <td>0.079720</td>\n",
              "      <td>0.038803</td>\n",
              "      <td>0.027414</td>\n",
              "      <td>0.007060</td>\n",
              "      <td>0.277313</td>\n",
              "      <td>0.551648</td>\n",
              "      <td>2.021855</td>\n",
              "      <td>45.491006</td>\n",
              "      <td>0.003003</td>\n",
              "      <td>0.017908</td>\n",
              "      <td>0.030186</td>\n",
              "      <td>0.006170</td>\n",
              "      <td>0.008266</td>\n",
              "      <td>0.002646</td>\n",
              "      <td>4.833242</td>\n",
              "      <td>6.146258</td>\n",
              "      <td>33.602542</td>\n",
              "      <td>569.356993</td>\n",
              "      <td>0.022832</td>\n",
              "      <td>0.157336</td>\n",
              "      <td>0.208624</td>\n",
              "      <td>0.065732</td>\n",
              "      <td>0.061867</td>\n",
              "      <td>0.018061</td>\n",
              "      <td>0.483918</td>\n",
              "    </tr>\n",
              "    <tr>\n",
              "      <th>min</th>\n",
              "      <td>6.981000</td>\n",
              "      <td>9.710000</td>\n",
              "      <td>43.790000</td>\n",
              "      <td>143.500000</td>\n",
              "      <td>0.052630</td>\n",
              "      <td>0.019380</td>\n",
              "      <td>0.000000</td>\n",
              "      <td>0.000000</td>\n",
              "      <td>0.106000</td>\n",
              "      <td>0.049960</td>\n",
              "      <td>0.111500</td>\n",
              "      <td>0.360200</td>\n",
              "      <td>0.757000</td>\n",
              "      <td>6.802000</td>\n",
              "      <td>0.001713</td>\n",
              "      <td>0.002252</td>\n",
              "      <td>0.000000</td>\n",
              "      <td>0.000000</td>\n",
              "      <td>0.007882</td>\n",
              "      <td>0.000895</td>\n",
              "      <td>7.930000</td>\n",
              "      <td>12.020000</td>\n",
              "      <td>50.410000</td>\n",
              "      <td>185.200000</td>\n",
              "      <td>0.071170</td>\n",
              "      <td>0.027290</td>\n",
              "      <td>0.000000</td>\n",
              "      <td>0.000000</td>\n",
              "      <td>0.156500</td>\n",
              "      <td>0.055040</td>\n",
              "      <td>0.000000</td>\n",
              "    </tr>\n",
              "    <tr>\n",
              "      <th>25%</th>\n",
              "      <td>11.700000</td>\n",
              "      <td>16.170000</td>\n",
              "      <td>75.170000</td>\n",
              "      <td>420.300000</td>\n",
              "      <td>0.086370</td>\n",
              "      <td>0.064920</td>\n",
              "      <td>0.029560</td>\n",
              "      <td>0.020310</td>\n",
              "      <td>0.161900</td>\n",
              "      <td>0.057700</td>\n",
              "      <td>0.232400</td>\n",
              "      <td>0.833900</td>\n",
              "      <td>1.606000</td>\n",
              "      <td>17.850000</td>\n",
              "      <td>0.005169</td>\n",
              "      <td>0.013080</td>\n",
              "      <td>0.015090</td>\n",
              "      <td>0.007638</td>\n",
              "      <td>0.015160</td>\n",
              "      <td>0.002248</td>\n",
              "      <td>13.010000</td>\n",
              "      <td>21.080000</td>\n",
              "      <td>84.110000</td>\n",
              "      <td>515.300000</td>\n",
              "      <td>0.116600</td>\n",
              "      <td>0.147200</td>\n",
              "      <td>0.114500</td>\n",
              "      <td>0.064930</td>\n",
              "      <td>0.250400</td>\n",
              "      <td>0.071460</td>\n",
              "      <td>0.000000</td>\n",
              "    </tr>\n",
              "    <tr>\n",
              "      <th>50%</th>\n",
              "      <td>13.370000</td>\n",
              "      <td>18.840000</td>\n",
              "      <td>86.240000</td>\n",
              "      <td>551.100000</td>\n",
              "      <td>0.095870</td>\n",
              "      <td>0.092630</td>\n",
              "      <td>0.061540</td>\n",
              "      <td>0.033500</td>\n",
              "      <td>0.179200</td>\n",
              "      <td>0.061540</td>\n",
              "      <td>0.324200</td>\n",
              "      <td>1.108000</td>\n",
              "      <td>2.287000</td>\n",
              "      <td>24.530000</td>\n",
              "      <td>0.006380</td>\n",
              "      <td>0.020450</td>\n",
              "      <td>0.025890</td>\n",
              "      <td>0.010930</td>\n",
              "      <td>0.018730</td>\n",
              "      <td>0.003187</td>\n",
              "      <td>14.970000</td>\n",
              "      <td>25.410000</td>\n",
              "      <td>97.660000</td>\n",
              "      <td>686.500000</td>\n",
              "      <td>0.131300</td>\n",
              "      <td>0.211900</td>\n",
              "      <td>0.226700</td>\n",
              "      <td>0.099930</td>\n",
              "      <td>0.282200</td>\n",
              "      <td>0.080040</td>\n",
              "      <td>1.000000</td>\n",
              "    </tr>\n",
              "    <tr>\n",
              "      <th>75%</th>\n",
              "      <td>15.780000</td>\n",
              "      <td>21.800000</td>\n",
              "      <td>104.100000</td>\n",
              "      <td>782.700000</td>\n",
              "      <td>0.105300</td>\n",
              "      <td>0.130400</td>\n",
              "      <td>0.130700</td>\n",
              "      <td>0.074000</td>\n",
              "      <td>0.195700</td>\n",
              "      <td>0.066120</td>\n",
              "      <td>0.478900</td>\n",
              "      <td>1.474000</td>\n",
              "      <td>3.357000</td>\n",
              "      <td>45.190000</td>\n",
              "      <td>0.008146</td>\n",
              "      <td>0.032450</td>\n",
              "      <td>0.042050</td>\n",
              "      <td>0.014710</td>\n",
              "      <td>0.023480</td>\n",
              "      <td>0.004558</td>\n",
              "      <td>18.790000</td>\n",
              "      <td>29.720000</td>\n",
              "      <td>125.400000</td>\n",
              "      <td>1084.000000</td>\n",
              "      <td>0.146000</td>\n",
              "      <td>0.339100</td>\n",
              "      <td>0.382900</td>\n",
              "      <td>0.161400</td>\n",
              "      <td>0.317900</td>\n",
              "      <td>0.092080</td>\n",
              "      <td>1.000000</td>\n",
              "    </tr>\n",
              "    <tr>\n",
              "      <th>max</th>\n",
              "      <td>28.110000</td>\n",
              "      <td>39.280000</td>\n",
              "      <td>188.500000</td>\n",
              "      <td>2501.000000</td>\n",
              "      <td>0.163400</td>\n",
              "      <td>0.345400</td>\n",
              "      <td>0.426800</td>\n",
              "      <td>0.201200</td>\n",
              "      <td>0.304000</td>\n",
              "      <td>0.097440</td>\n",
              "      <td>2.873000</td>\n",
              "      <td>4.885000</td>\n",
              "      <td>21.980000</td>\n",
              "      <td>542.200000</td>\n",
              "      <td>0.031130</td>\n",
              "      <td>0.135400</td>\n",
              "      <td>0.396000</td>\n",
              "      <td>0.052790</td>\n",
              "      <td>0.078950</td>\n",
              "      <td>0.029840</td>\n",
              "      <td>36.040000</td>\n",
              "      <td>49.540000</td>\n",
              "      <td>251.200000</td>\n",
              "      <td>4254.000000</td>\n",
              "      <td>0.222600</td>\n",
              "      <td>1.058000</td>\n",
              "      <td>1.252000</td>\n",
              "      <td>0.291000</td>\n",
              "      <td>0.663800</td>\n",
              "      <td>0.207500</td>\n",
              "      <td>1.000000</td>\n",
              "    </tr>\n",
              "  </tbody>\n",
              "</table>\n",
              "</div>"
            ],
            "text/plain": [
              "       mean radius  mean texture  ...  worst fractal dimension      target\n",
              "count   569.000000    569.000000  ...               569.000000  569.000000\n",
              "mean     14.127292     19.289649  ...                 0.083946    0.627417\n",
              "std       3.524049      4.301036  ...                 0.018061    0.483918\n",
              "min       6.981000      9.710000  ...                 0.055040    0.000000\n",
              "25%      11.700000     16.170000  ...                 0.071460    0.000000\n",
              "50%      13.370000     18.840000  ...                 0.080040    1.000000\n",
              "75%      15.780000     21.800000  ...                 0.092080    1.000000\n",
              "max      28.110000     39.280000  ...                 0.207500    1.000000\n",
              "\n",
              "[8 rows x 31 columns]"
            ]
          },
          "metadata": {},
          "execution_count": 7
        }
      ]
    },
    {
      "cell_type": "code",
      "metadata": {
        "colab": {
          "base_uri": "https://localhost:8080/"
        },
        "id": "OYSN94Qlcpos",
        "outputId": "41379871-9950-4a1f-a708-2bcfa1b81c54"
      },
      "source": [
        "df['target'].value_counts()"
      ],
      "execution_count": null,
      "outputs": [
        {
          "output_type": "execute_result",
          "data": {
            "text/plain": [
              "1    357\n",
              "0    212\n",
              "Name: target, dtype: int64"
            ]
          },
          "metadata": {},
          "execution_count": 8
        }
      ]
    },
    {
      "cell_type": "markdown",
      "metadata": {
        "id": "AtnOxA-1JTk0"
      },
      "source": [
        "## Exploratory Data Analysis with original 31 features"
      ]
    },
    {
      "cell_type": "code",
      "metadata": {
        "colab": {
          "base_uri": "https://localhost:8080/",
          "height": 1000
        },
        "id": "srWSDxcZJeAf",
        "outputId": "800041c2-f913-4c87-ea50-dedf5ee4a834"
      },
      "source": [
        "df.hist(figsize=(26,16))"
      ],
      "execution_count": null,
      "outputs": [
        {
          "output_type": "execute_result",
          "data": {
            "text/plain": [
              "array([[<matplotlib.axes._subplots.AxesSubplot object at 0x7f8861816d50>,\n",
              "        <matplotlib.axes._subplots.AxesSubplot object at 0x7f88617e6450>,\n",
              "        <matplotlib.axes._subplots.AxesSubplot object at 0x7f88617a1a50>,\n",
              "        <matplotlib.axes._subplots.AxesSubplot object at 0x7f886174bb90>,\n",
              "        <matplotlib.axes._subplots.AxesSubplot object at 0x7f8861717690>,\n",
              "        <matplotlib.axes._subplots.AxesSubplot object at 0x7f88616cec90>],\n",
              "       [<matplotlib.axes._subplots.AxesSubplot object at 0x7f8861690350>,\n",
              "        <matplotlib.axes._subplots.AxesSubplot object at 0x7f8861646890>,\n",
              "        <matplotlib.axes._subplots.AxesSubplot object at 0x7f88616468d0>,\n",
              "        <matplotlib.axes._subplots.AxesSubplot object at 0x7f886167dfd0>,\n",
              "        <matplotlib.axes._subplots.AxesSubplot object at 0x7f88615f3b10>,\n",
              "        <matplotlib.axes._subplots.AxesSubplot object at 0x7f88615b6150>],\n",
              "       [<matplotlib.axes._subplots.AxesSubplot object at 0x7f886156c750>,\n",
              "        <matplotlib.axes._subplots.AxesSubplot object at 0x7f8861520d50>,\n",
              "        <matplotlib.axes._subplots.AxesSubplot object at 0x7f88614e4390>,\n",
              "        <matplotlib.axes._subplots.AxesSubplot object at 0x7f886149b990>,\n",
              "        <matplotlib.axes._subplots.AxesSubplot object at 0x7f8861451f90>,\n",
              "        <matplotlib.axes._subplots.AxesSubplot object at 0x7f88614115d0>],\n",
              "       [<matplotlib.axes._subplots.AxesSubplot object at 0x7f88613c7bd0>,\n",
              "        <matplotlib.axes._subplots.AxesSubplot object at 0x7f886138b210>,\n",
              "        <matplotlib.axes._subplots.AxesSubplot object at 0x7f88613bf810>,\n",
              "        <matplotlib.axes._subplots.AxesSubplot object at 0x7f8861375e10>,\n",
              "        <matplotlib.axes._subplots.AxesSubplot object at 0x7f8861339450>,\n",
              "        <matplotlib.axes._subplots.AxesSubplot object at 0x7f88612eda50>],\n",
              "       [<matplotlib.axes._subplots.AxesSubplot object at 0x7f886129ab90>,\n",
              "        <matplotlib.axes._subplots.AxesSubplot object at 0x7f8861267690>,\n",
              "        <matplotlib.axes._subplots.AxesSubplot object at 0x7f886121dc90>,\n",
              "        <matplotlib.axes._subplots.AxesSubplot object at 0x7f88611dd2d0>,\n",
              "        <matplotlib.axes._subplots.AxesSubplot object at 0x7f88611958d0>,\n",
              "        <matplotlib.axes._subplots.AxesSubplot object at 0x7f886114bed0>],\n",
              "       [<matplotlib.axes._subplots.AxesSubplot object at 0x7f886117ab90>,\n",
              "        <matplotlib.axes._subplots.AxesSubplot object at 0x7f88610c5590>,\n",
              "        <matplotlib.axes._subplots.AxesSubplot object at 0x7f88610fca90>,\n",
              "        <matplotlib.axes._subplots.AxesSubplot object at 0x7f88610b0f90>,\n",
              "        <matplotlib.axes._subplots.AxesSubplot object at 0x7f88610734d0>,\n",
              "        <matplotlib.axes._subplots.AxesSubplot object at 0x7f88610279d0>]],\n",
              "      dtype=object)"
            ]
          },
          "metadata": {},
          "execution_count": 9
        },
        {
          "output_type": "display_data",
          "data": {
            "image/png": "[encoded data removed]",
            "text/plain": [
              "<Figure size 1872x1152 with 36 Axes>"
            ]
          },
          "metadata": {
            "needs_background": "light"
          }
        }
      ]
    },
    {
      "cell_type": "code",
      "metadata": {
        "id": "YV1Cps2qfAEQ"
      },
      "source": [
        "X=df.iloc[:,0:30]"
      ],
      "execution_count": null,
      "outputs": []
    },
    {
      "cell_type": "code",
      "metadata": {
        "id": "yNbPo3qYe5w_"
      },
      "source": [
        "y=df.iloc[:,30]"
      ],
      "execution_count": null,
      "outputs": []
    },
    {
      "cell_type": "code",
      "metadata": {
        "id": "xTG0o_-HCNj0"
      },
      "source": [
        "X_train,X_test,y_train,y_test=train_test_split(X,y,test_size=0.2,random_state=0)"
      ],
      "execution_count": null,
      "outputs": []
    },
    {
      "cell_type": "code",
      "metadata": {
        "colab": {
          "base_uri": "https://localhost:8080/"
        },
        "id": "IKU95F0tcibG",
        "outputId": "1df7d66b-d580-4440-cc1a-971120a6f7d1"
      },
      "source": [
        "print(len(X_train))"
      ],
      "execution_count": null,
      "outputs": [
        {
          "output_type": "stream",
          "name": "stdout",
          "text": [
            "455\n"
          ]
        }
      ]
    },
    {
      "cell_type": "code",
      "metadata": {
        "id": "CECJF7NAhwJZ"
      },
      "source": [
        "scaler=StandardScaler()\n",
        "X_train=scaler.fit_transform(X_train)\n",
        "X_test=scaler.transform(X_test)\n",
        "\n"
      ],
      "execution_count": null,
      "outputs": []
    },
    {
      "cell_type": "code",
      "metadata": {
        "colab": {
          "base_uri": "https://localhost:8080/"
        },
        "id": "tT0tueSGBfmD",
        "outputId": "009af3f0-b0ba-45de-9b4d-9d2a0cc7c21c"
      },
      "source": [
        "svm=SVC()\n",
        "svm.fit(X_train,y_train)\n",
        "print(svm.score(X_test,y_test))\n",
        "predsvm=svm.predict(X_test)\n"
      ],
      "execution_count": null,
      "outputs": [
        {
          "output_type": "stream",
          "name": "stdout",
          "text": [
            "0.9824561403508771\n"
          ]
        }
      ]
    },
    {
      "cell_type": "code",
      "metadata": {
        "colab": {
          "base_uri": "https://localhost:8080/"
        },
        "id": "wwg9OCp3mYRV",
        "outputId": "170f3d0c-0d9c-44be-ba45-2787c254651e"
      },
      "source": [
        "print(f1_score(y_test,predsvm))"
      ],
      "execution_count": null,
      "outputs": [
        {
          "output_type": "stream",
          "name": "stdout",
          "text": [
            "0.9852941176470589\n"
          ]
        }
      ]
    },
    {
      "cell_type": "code",
      "metadata": {
        "colab": {
          "base_uri": "https://localhost:8080/"
        },
        "id": "F2EASDtYJOJ4",
        "outputId": "31965ef9-8583-4ad3-cb1e-79516936b7d5"
      },
      "source": [
        "matrix=confusion_matrix(y_test,predsvm,labels=[1,0])\n",
        "confusion=pd.DataFrame(matrix,index=['Actual Cancer','Actual No Cancer'],columns=['Predicted Cancer','Predicted No Cancer'])\n",
        "print(confusion)"
      ],
      "execution_count": null,
      "outputs": [
        {
          "output_type": "stream",
          "name": "stdout",
          "text": [
            "                  Predicted Cancer  Predicted No Cancer\n",
            "Actual Cancer                   67                    0\n",
            "Actual No Cancer                 2                   45\n"
          ]
        }
      ]
    },
    {
      "cell_type": "markdown",
      "metadata": {
        "id": "KLnRyJ9_J9rV"
      },
      "source": [
        "## Feature Selection using Chi-square test"
      ]
    },
    {
      "cell_type": "code",
      "metadata": {
        "id": "BuSNtjg51OWD"
      },
      "source": [
        "from sklearn.feature_selection import SelectKBest\n",
        "from sklearn.feature_selection import chi2\n",
        "chi2_features=SelectKBest(score_func=chi2,k=10)\n",
        "fit=chi2_features.fit(X,y)\n",
        "\n"
      ],
      "execution_count": null,
      "outputs": []
    },
    {
      "cell_type": "code",
      "metadata": {
        "id": "p0Y2hlPB2VjP"
      },
      "source": [
        "dfscores=pd.DataFrame(fit.scores_)\n",
        "dfcolumns=pd.DataFrame(X.columns)\n",
        "featureScores=pd.concat([dfcolumns,dfscores],axis=1)\n",
        "featureScores.columns=['Specs','Score']"
      ],
      "execution_count": null,
      "outputs": []
    },
    {
      "cell_type": "code",
      "metadata": {
        "colab": {
          "base_uri": "https://localhost:8080/",
          "height": 990
        },
        "id": "fom_urJ73xhG",
        "outputId": "86ba302e-172e-4dc4-bc7a-fa0363834359"
      },
      "source": [
        "featureScores"
      ],
      "execution_count": null,
      "outputs": [
        {
          "output_type": "execute_result",
          "data": {
            "text/html": [
              "<div>\n",
              "<style scoped>\n",
              "    .dataframe tbody tr th:only-of-type {\n",
              "        vertical-align: middle;\n",
              "    }\n",
              "\n",
              "    .dataframe tbody tr th {\n",
              "        vertical-align: top;\n",
              "    }\n",
              "\n",
              "    .dataframe thead th {\n",
              "        text-align: right;\n",
              "    }\n",
              "</style>\n",
              "<table border=\"1\" class=\"dataframe\">\n",
              "  <thead>\n",
              "    <tr style=\"text-align: right;\">\n",
              "      <th></th>\n",
              "      <th>Specs</th>\n",
              "      <th>Score</th>\n",
              "    </tr>\n",
              "  </thead>\n",
              "  <tbody>\n",
              "    <tr>\n",
              "      <th>0</th>\n",
              "      <td>mean radius</td>\n",
              "      <td>266.104917</td>\n",
              "    </tr>\n",
              "    <tr>\n",
              "      <th>1</th>\n",
              "      <td>mean texture</td>\n",
              "      <td>93.897508</td>\n",
              "    </tr>\n",
              "    <tr>\n",
              "      <th>2</th>\n",
              "      <td>mean perimeter</td>\n",
              "      <td>2011.102864</td>\n",
              "    </tr>\n",
              "    <tr>\n",
              "      <th>3</th>\n",
              "      <td>mean area</td>\n",
              "      <td>53991.655924</td>\n",
              "    </tr>\n",
              "    <tr>\n",
              "      <th>4</th>\n",
              "      <td>mean smoothness</td>\n",
              "      <td>0.149899</td>\n",
              "    </tr>\n",
              "    <tr>\n",
              "      <th>5</th>\n",
              "      <td>mean compactness</td>\n",
              "      <td>5.403075</td>\n",
              "    </tr>\n",
              "    <tr>\n",
              "      <th>6</th>\n",
              "      <td>mean concavity</td>\n",
              "      <td>19.712354</td>\n",
              "    </tr>\n",
              "    <tr>\n",
              "      <th>7</th>\n",
              "      <td>mean concave points</td>\n",
              "      <td>10.544035</td>\n",
              "    </tr>\n",
              "    <tr>\n",
              "      <th>8</th>\n",
              "      <td>mean symmetry</td>\n",
              "      <td>0.257380</td>\n",
              "    </tr>\n",
              "    <tr>\n",
              "      <th>9</th>\n",
              "      <td>mean fractal dimension</td>\n",
              "      <td>0.000074</td>\n",
              "    </tr>\n",
              "    <tr>\n",
              "      <th>10</th>\n",
              "      <td>radius error</td>\n",
              "      <td>34.675247</td>\n",
              "    </tr>\n",
              "    <tr>\n",
              "      <th>11</th>\n",
              "      <td>texture error</td>\n",
              "      <td>0.009794</td>\n",
              "    </tr>\n",
              "    <tr>\n",
              "      <th>12</th>\n",
              "      <td>perimeter error</td>\n",
              "      <td>250.571896</td>\n",
              "    </tr>\n",
              "    <tr>\n",
              "      <th>13</th>\n",
              "      <td>area error</td>\n",
              "      <td>8758.504705</td>\n",
              "    </tr>\n",
              "    <tr>\n",
              "      <th>14</th>\n",
              "      <td>smoothness error</td>\n",
              "      <td>0.003266</td>\n",
              "    </tr>\n",
              "    <tr>\n",
              "      <th>15</th>\n",
              "      <td>compactness error</td>\n",
              "      <td>0.613785</td>\n",
              "    </tr>\n",
              "    <tr>\n",
              "      <th>16</th>\n",
              "      <td>concavity error</td>\n",
              "      <td>1.044718</td>\n",
              "    </tr>\n",
              "    <tr>\n",
              "      <th>17</th>\n",
              "      <td>concave points error</td>\n",
              "      <td>0.305232</td>\n",
              "    </tr>\n",
              "    <tr>\n",
              "      <th>18</th>\n",
              "      <td>symmetry error</td>\n",
              "      <td>0.000080</td>\n",
              "    </tr>\n",
              "    <tr>\n",
              "      <th>19</th>\n",
              "      <td>fractal dimension error</td>\n",
              "      <td>0.006371</td>\n",
              "    </tr>\n",
              "    <tr>\n",
              "      <th>20</th>\n",
              "      <td>worst radius</td>\n",
              "      <td>491.689157</td>\n",
              "    </tr>\n",
              "    <tr>\n",
              "      <th>21</th>\n",
              "      <td>worst texture</td>\n",
              "      <td>174.449400</td>\n",
              "    </tr>\n",
              "    <tr>\n",
              "      <th>22</th>\n",
              "      <td>worst perimeter</td>\n",
              "      <td>3665.035416</td>\n",
              "    </tr>\n",
              "    <tr>\n",
              "      <th>23</th>\n",
              "      <td>worst area</td>\n",
              "      <td>112598.431564</td>\n",
              "    </tr>\n",
              "    <tr>\n",
              "      <th>24</th>\n",
              "      <td>worst smoothness</td>\n",
              "      <td>0.397366</td>\n",
              "    </tr>\n",
              "    <tr>\n",
              "      <th>25</th>\n",
              "      <td>worst compactness</td>\n",
              "      <td>19.314922</td>\n",
              "    </tr>\n",
              "    <tr>\n",
              "      <th>26</th>\n",
              "      <td>worst concavity</td>\n",
              "      <td>39.516915</td>\n",
              "    </tr>\n",
              "    <tr>\n",
              "      <th>27</th>\n",
              "      <td>worst concave points</td>\n",
              "      <td>13.485419</td>\n",
              "    </tr>\n",
              "    <tr>\n",
              "      <th>28</th>\n",
              "      <td>worst symmetry</td>\n",
              "      <td>1.298861</td>\n",
              "    </tr>\n",
              "    <tr>\n",
              "      <th>29</th>\n",
              "      <td>worst fractal dimension</td>\n",
              "      <td>0.231522</td>\n",
              "    </tr>\n",
              "  </tbody>\n",
              "</table>\n",
              "</div>"
            ],
            "text/plain": [
              "                      Specs          Score\n",
              "0               mean radius     266.104917\n",
              "1              mean texture      93.897508\n",
              "2            mean perimeter    2011.102864\n",
              "3                 mean area   53991.655924\n",
              "4           mean smoothness       0.149899\n",
              "5          mean compactness       5.403075\n",
              "6            mean concavity      19.712354\n",
              "7       mean concave points      10.544035\n",
              "8             mean symmetry       0.257380\n",
              "9    mean fractal dimension       0.000074\n",
              "10             radius error      34.675247\n",
              "11            texture error       0.009794\n",
              "12          perimeter error     250.571896\n",
              "13               area error    8758.504705\n",
              "14         smoothness error       0.003266\n",
              "15        compactness error       0.613785\n",
              "16          concavity error       1.044718\n",
              "17     concave points error       0.305232\n",
              "18           symmetry error       0.000080\n",
              "19  fractal dimension error       0.006371\n",
              "20             worst radius     491.689157\n",
              "21            worst texture     174.449400\n",
              "22          worst perimeter    3665.035416\n",
              "23               worst area  112598.431564\n",
              "24         worst smoothness       0.397366\n",
              "25        worst compactness      19.314922\n",
              "26          worst concavity      39.516915\n",
              "27     worst concave points      13.485419\n",
              "28           worst symmetry       1.298861\n",
              "29  worst fractal dimension       0.231522"
            ]
          },
          "metadata": {},
          "execution_count": 20
        }
      ]
    },
    {
      "cell_type": "code",
      "metadata": {
        "colab": {
          "base_uri": "https://localhost:8080/"
        },
        "id": "E-FZ_D3elcCe",
        "outputId": "90a095f1-8b42-49da-9bde-5bc97e4717c8"
      },
      "source": [
        "print(featureScores.nlargest(10,'Score'))"
      ],
      "execution_count": null,
      "outputs": [
        {
          "output_type": "stream",
          "name": "stdout",
          "text": [
            "              Specs          Score\n",
            "23       worst area  112598.431564\n",
            "3         mean area   53991.655924\n",
            "13       area error    8758.504705\n",
            "22  worst perimeter    3665.035416\n",
            "2    mean perimeter    2011.102864\n",
            "20     worst radius     491.689157\n",
            "0       mean radius     266.104917\n",
            "12  perimeter error     250.571896\n",
            "21    worst texture     174.449400\n",
            "1      mean texture      93.897508\n"
          ]
        }
      ]
    },
    {
      "cell_type": "code",
      "metadata": {
        "colab": {
          "base_uri": "https://localhost:8080/",
          "height": 363
        },
        "id": "RDcFk7iD36S5",
        "outputId": "440283d8-8ae6-4ff9-e379-49bbb9711cbc"
      },
      "source": [
        "Xnew=df[['worst area','mean area','worst perimeter','worst radius','mean perimeter','area error','mean radius','perimeter error','worst texture','mean texture']]\n",
        "chidf=pd.concat([Xnew,df['target']],axis=1)\n",
        "\n",
        "chidf.head(n=10)"
      ],
      "execution_count": null,
      "outputs": [
        {
          "output_type": "execute_result",
          "data": {
            "text/html": [
              "<div>\n",
              "<style scoped>\n",
              "    .dataframe tbody tr th:only-of-type {\n",
              "        vertical-align: middle;\n",
              "    }\n",
              "\n",
              "    .dataframe tbody tr th {\n",
              "        vertical-align: top;\n",
              "    }\n",
              "\n",
              "    .dataframe thead th {\n",
              "        text-align: right;\n",
              "    }\n",
              "</style>\n",
              "<table border=\"1\" class=\"dataframe\">\n",
              "  <thead>\n",
              "    <tr style=\"text-align: right;\">\n",
              "      <th></th>\n",
              "      <th>worst area</th>\n",
              "      <th>mean area</th>\n",
              "      <th>worst perimeter</th>\n",
              "      <th>worst radius</th>\n",
              "      <th>mean perimeter</th>\n",
              "      <th>area error</th>\n",
              "      <th>mean radius</th>\n",
              "      <th>perimeter error</th>\n",
              "      <th>worst texture</th>\n",
              "      <th>mean texture</th>\n",
              "      <th>target</th>\n",
              "    </tr>\n",
              "  </thead>\n",
              "  <tbody>\n",
              "    <tr>\n",
              "      <th>0</th>\n",
              "      <td>2019.0</td>\n",
              "      <td>1001.0</td>\n",
              "      <td>184.60</td>\n",
              "      <td>25.38</td>\n",
              "      <td>122.80</td>\n",
              "      <td>153.40</td>\n",
              "      <td>17.99</td>\n",
              "      <td>8.589</td>\n",
              "      <td>17.33</td>\n",
              "      <td>10.38</td>\n",
              "      <td>0</td>\n",
              "    </tr>\n",
              "    <tr>\n",
              "      <th>1</th>\n",
              "      <td>1956.0</td>\n",
              "      <td>1326.0</td>\n",
              "      <td>158.80</td>\n",
              "      <td>24.99</td>\n",
              "      <td>132.90</td>\n",
              "      <td>74.08</td>\n",
              "      <td>20.57</td>\n",
              "      <td>3.398</td>\n",
              "      <td>23.41</td>\n",
              "      <td>17.77</td>\n",
              "      <td>0</td>\n",
              "    </tr>\n",
              "    <tr>\n",
              "      <th>2</th>\n",
              "      <td>1709.0</td>\n",
              "      <td>1203.0</td>\n",
              "      <td>152.50</td>\n",
              "      <td>23.57</td>\n",
              "      <td>130.00</td>\n",
              "      <td>94.03</td>\n",
              "      <td>19.69</td>\n",
              "      <td>4.585</td>\n",
              "      <td>25.53</td>\n",
              "      <td>21.25</td>\n",
              "      <td>0</td>\n",
              "    </tr>\n",
              "    <tr>\n",
              "      <th>3</th>\n",
              "      <td>567.7</td>\n",
              "      <td>386.1</td>\n",
              "      <td>98.87</td>\n",
              "      <td>14.91</td>\n",
              "      <td>77.58</td>\n",
              "      <td>27.23</td>\n",
              "      <td>11.42</td>\n",
              "      <td>3.445</td>\n",
              "      <td>26.50</td>\n",
              "      <td>20.38</td>\n",
              "      <td>0</td>\n",
              "    </tr>\n",
              "    <tr>\n",
              "      <th>4</th>\n",
              "      <td>1575.0</td>\n",
              "      <td>1297.0</td>\n",
              "      <td>152.20</td>\n",
              "      <td>22.54</td>\n",
              "      <td>135.10</td>\n",
              "      <td>94.44</td>\n",
              "      <td>20.29</td>\n",
              "      <td>5.438</td>\n",
              "      <td>16.67</td>\n",
              "      <td>14.34</td>\n",
              "      <td>0</td>\n",
              "    </tr>\n",
              "    <tr>\n",
              "      <th>5</th>\n",
              "      <td>741.6</td>\n",
              "      <td>477.1</td>\n",
              "      <td>103.40</td>\n",
              "      <td>15.47</td>\n",
              "      <td>82.57</td>\n",
              "      <td>27.19</td>\n",
              "      <td>12.45</td>\n",
              "      <td>2.217</td>\n",
              "      <td>23.75</td>\n",
              "      <td>15.70</td>\n",
              "      <td>0</td>\n",
              "    </tr>\n",
              "    <tr>\n",
              "      <th>6</th>\n",
              "      <td>1606.0</td>\n",
              "      <td>1040.0</td>\n",
              "      <td>153.20</td>\n",
              "      <td>22.88</td>\n",
              "      <td>119.60</td>\n",
              "      <td>53.91</td>\n",
              "      <td>18.25</td>\n",
              "      <td>3.180</td>\n",
              "      <td>27.66</td>\n",
              "      <td>19.98</td>\n",
              "      <td>0</td>\n",
              "    </tr>\n",
              "    <tr>\n",
              "      <th>7</th>\n",
              "      <td>897.0</td>\n",
              "      <td>577.9</td>\n",
              "      <td>110.60</td>\n",
              "      <td>17.06</td>\n",
              "      <td>90.20</td>\n",
              "      <td>50.96</td>\n",
              "      <td>13.71</td>\n",
              "      <td>3.856</td>\n",
              "      <td>28.14</td>\n",
              "      <td>20.83</td>\n",
              "      <td>0</td>\n",
              "    </tr>\n",
              "    <tr>\n",
              "      <th>8</th>\n",
              "      <td>739.3</td>\n",
              "      <td>519.8</td>\n",
              "      <td>106.20</td>\n",
              "      <td>15.49</td>\n",
              "      <td>87.50</td>\n",
              "      <td>24.32</td>\n",
              "      <td>13.00</td>\n",
              "      <td>2.406</td>\n",
              "      <td>30.73</td>\n",
              "      <td>21.82</td>\n",
              "      <td>0</td>\n",
              "    </tr>\n",
              "    <tr>\n",
              "      <th>9</th>\n",
              "      <td>711.4</td>\n",
              "      <td>475.9</td>\n",
              "      <td>97.65</td>\n",
              "      <td>15.09</td>\n",
              "      <td>83.97</td>\n",
              "      <td>23.94</td>\n",
              "      <td>12.46</td>\n",
              "      <td>2.039</td>\n",
              "      <td>40.68</td>\n",
              "      <td>24.04</td>\n",
              "      <td>0</td>\n",
              "    </tr>\n",
              "  </tbody>\n",
              "</table>\n",
              "</div>"
            ],
            "text/plain": [
              "   worst area  mean area  worst perimeter  ...  worst texture  mean texture  target\n",
              "0      2019.0     1001.0           184.60  ...          17.33         10.38       0\n",
              "1      1956.0     1326.0           158.80  ...          23.41         17.77       0\n",
              "2      1709.0     1203.0           152.50  ...          25.53         21.25       0\n",
              "3       567.7      386.1            98.87  ...          26.50         20.38       0\n",
              "4      1575.0     1297.0           152.20  ...          16.67         14.34       0\n",
              "5       741.6      477.1           103.40  ...          23.75         15.70       0\n",
              "6      1606.0     1040.0           153.20  ...          27.66         19.98       0\n",
              "7       897.0      577.9           110.60  ...          28.14         20.83       0\n",
              "8       739.3      519.8           106.20  ...          30.73         21.82       0\n",
              "9       711.4      475.9            97.65  ...          40.68         24.04       0\n",
              "\n",
              "[10 rows x 11 columns]"
            ]
          },
          "metadata": {},
          "execution_count": 22
        }
      ]
    },
    {
      "cell_type": "markdown",
      "metadata": {
        "id": "v-51YeLXKrAl"
      },
      "source": [
        "## EDA with new 10 independet features"
      ]
    },
    {
      "cell_type": "code",
      "metadata": {
        "id": "a2vuz1m1-rfC",
        "colab": {
          "base_uri": "https://localhost:8080/",
          "height": 757
        },
        "outputId": "2d9d5744-d89d-44f3-b725-58243375a4b1"
      },
      "source": [
        "chidf.hist(figsize=(26,16))"
      ],
      "execution_count": null,
      "outputs": [
        {
          "output_type": "execute_result",
          "data": {
            "text/plain": [
              "array([[<matplotlib.axes._subplots.AxesSubplot object at 0x7f88a4a13810>,\n",
              "        <matplotlib.axes._subplots.AxesSubplot object at 0x7f88a49cad10>,\n",
              "        <matplotlib.axes._subplots.AxesSubplot object at 0x7f88a1860b50>],\n",
              "       [<matplotlib.axes._subplots.AxesSubplot object at 0x7f88a4f7c810>,\n",
              "        <matplotlib.axes._subplots.AxesSubplot object at 0x7f88a1355d50>,\n",
              "        <matplotlib.axes._subplots.AxesSubplot object at 0x7f88a1022c90>],\n",
              "       [<matplotlib.axes._subplots.AxesSubplot object at 0x7f88a0fe5350>,\n",
              "        <matplotlib.axes._subplots.AxesSubplot object at 0x7f88a0f9b890>,\n",
              "        <matplotlib.axes._subplots.AxesSubplot object at 0x7f88a0f9b8d0>],\n",
              "       [<matplotlib.axes._subplots.AxesSubplot object at 0x7f88a0f50fd0>,\n",
              "        <matplotlib.axes._subplots.AxesSubplot object at 0x7f88a0ecbb10>,\n",
              "        <matplotlib.axes._subplots.AxesSubplot object at 0x7f88a0e8c150>]],\n",
              "      dtype=object)"
            ]
          },
          "metadata": {},
          "execution_count": 130
        },
        {
          "output_type": "display_data",
          "data": {
            "image/png": "[encoded data removed]",
            "text/plain": [
              "<Figure size 1872x1152 with 12 Axes>"
            ]
          },
          "metadata": {
            "needs_background": "light"
          }
        }
      ]
    },
    {
      "cell_type": "code",
      "metadata": {
        "colab": {
          "base_uri": "https://localhost:8080/",
          "height": 743
        },
        "id": "Zytl3KoKLpf6",
        "outputId": "29ab5bb4-aa21-4f65-e87f-e1eac6224c22"
      },
      "source": [
        "sns.pairplot(chidf,hue='target',vars=['worst area','mean area','area error','worst perimeter'])"
      ],
      "execution_count": null,
      "outputs": [
        {
          "output_type": "execute_result",
          "data": {
            "text/plain": [
              "<seaborn.axisgrid.PairGrid at 0x7f88a0ab9790>"
            ]
          },
          "metadata": {},
          "execution_count": 131
        },
        {
          "output_type": "display_data",
          "data": {
            "image/png": "[encoded data removed]",
            "text/plain": [
              "<Figure size 762.375x720 with 20 Axes>"
            ]
          },
          "metadata": {
            "needs_background": "light"
          }
        }
      ]
    },
    {
      "cell_type": "code",
      "metadata": {
        "id": "071TfYn6-y_2"
      },
      "source": [
        "X_train_chi,X_test_chi,y_train,y_test=train_test_split(Xnew,y,test_size=0.2,random_state=0)"
      ],
      "execution_count": null,
      "outputs": []
    },
    {
      "cell_type": "code",
      "metadata": {
        "id": "DVQ4znwL-vDW"
      },
      "source": [
        "scaler=StandardScaler()\n",
        "X_train_chi=scaler.fit_transform(X_train_chi)\n",
        "X_test_chi=scaler.transform(X_test_chi)\n",
        "\n"
      ],
      "execution_count": null,
      "outputs": []
    },
    {
      "cell_type": "code",
      "metadata": {
        "colab": {
          "base_uri": "https://localhost:8080/"
        },
        "id": "A91gGxAG-7Dm",
        "outputId": "07f72d9c-47fd-4bba-bc92-dbaa972c6dcf"
      },
      "source": [
        "svm=SVC()\n",
        "svm.fit(X_train_chi,y_train)\n",
        "pred=svm.predict(X_test_chi)\n",
        "print(accuracy_score(y_test,pred))\n"
      ],
      "execution_count": null,
      "outputs": [
        {
          "output_type": "stream",
          "name": "stdout",
          "text": [
            "0.9649122807017544\n"
          ]
        }
      ]
    },
    {
      "cell_type": "code",
      "metadata": {
        "colab": {
          "base_uri": "https://localhost:8080/"
        },
        "id": "yqRxUxDBm_HQ",
        "outputId": "f287d3a5-a179-4b3e-efd6-b146fe0568eb"
      },
      "source": [
        "print(f1_score(y_test,pred))"
      ],
      "execution_count": null,
      "outputs": [
        {
          "output_type": "stream",
          "name": "stdout",
          "text": [
            "0.9701492537313433\n"
          ]
        }
      ]
    },
    {
      "cell_type": "code",
      "metadata": {
        "colab": {
          "base_uri": "https://localhost:8080/"
        },
        "id": "iFMltElmLFxm",
        "outputId": "e0f16569-c712-47ce-b694-62709dd4eb0f"
      },
      "source": [
        "matrix=confusion_matrix(y_test,pred,labels=[1,0])\n",
        "confusion=pd.DataFrame(matrix,index=['Actual Cancer','Actual No Cancer'],columns=['Predicted Cancer','Predicted No Cancer'])\n",
        "print(confusion)"
      ],
      "execution_count": null,
      "outputs": [
        {
          "output_type": "stream",
          "name": "stdout",
          "text": [
            "                  Predicted Cancer  Predicted No Cancer\n",
            "Actual Cancer                   65                    2\n",
            "Actual No Cancer                 2                   45\n"
          ]
        }
      ]
    },
    {
      "cell_type": "markdown",
      "metadata": {
        "id": "f6MmAG4TYnNG"
      },
      "source": [
        "### ANN"
      ]
    },
    {
      "cell_type": "code",
      "metadata": {
        "id": "O8SJ6yYkyisb"
      },
      "source": [
        "X_train_ann,X_test_ann,y_train,y_test=train_test_split(X,y,test_size=0.2,random_state=0)"
      ],
      "execution_count": null,
      "outputs": []
    },
    {
      "cell_type": "code",
      "metadata": {
        "id": "ox-lzP6ay294"
      },
      "source": [
        "scaler=StandardScaler()\n",
        "X_train_ann=scaler.fit_transform(X_train_ann)\n",
        "X_test_ann=scaler.transform(X_test_ann)\n",
        "\n"
      ],
      "execution_count": null,
      "outputs": []
    },
    {
      "cell_type": "code",
      "metadata": {
        "id": "eOjlWYanfwgx"
      },
      "source": [
        "model=Sequential()\n",
        "model.add(Dense(12,input_dim=30,activation='relu'))\n",
        "model.add(Dense(8,activation='relu'))\n",
        "model.add(Dense(1,activation='sigmoid'))"
      ],
      "execution_count": null,
      "outputs": []
    },
    {
      "cell_type": "code",
      "metadata": {
        "id": "tYzh6tFaglHk"
      },
      "source": [
        "model.compile(loss='binary_crossentropy',optimizer='adam',metrics=['accuracy'])"
      ],
      "execution_count": null,
      "outputs": []
    },
    {
      "cell_type": "code",
      "metadata": {
        "colab": {
          "base_uri": "https://localhost:8080/"
        },
        "id": "74eLoOzAg1YJ",
        "outputId": "a365dff9-ae69-46d5-8e1d-8babaa3ff524"
      },
      "source": [
        "model.fit(X_train_ann,y_train,epochs=50,batch_size=8)"
      ],
      "execution_count": null,
      "outputs": [
        {
          "output_type": "stream",
          "name": "stdout",
          "text": [
            "Epoch 1/50\n",
            "57/57 [==============================] - 1s 2ms/step - loss: 0.6530 - accuracy: 0.4308\n",
            "Epoch 2/50\n",
            "57/57 [==============================] - 0s 2ms/step - loss: 0.5213 - accuracy: 0.7231\n",
            "Epoch 3/50\n",
            "57/57 [==============================] - 0s 2ms/step - loss: 0.4434 - accuracy: 0.8945\n",
            "Epoch 4/50\n",
            "57/57 [==============================] - 0s 2ms/step - loss: 0.3481 - accuracy: 0.9516\n",
            "Epoch 5/50\n",
            "57/57 [==============================] - 0s 2ms/step - loss: 0.2384 - accuracy: 0.9692\n",
            "Epoch 6/50\n",
            "57/57 [==============================] - 0s 2ms/step - loss: 0.1595 - accuracy: 0.9714\n",
            "Epoch 7/50\n",
            "57/57 [==============================] - 0s 2ms/step - loss: 0.1185 - accuracy: 0.9736\n",
            "Epoch 8/50\n",
            "57/57 [==============================] - 0s 2ms/step - loss: 0.0962 - accuracy: 0.9802\n",
            "Epoch 9/50\n",
            "57/57 [==============================] - 0s 3ms/step - loss: 0.0835 - accuracy: 0.9780\n",
            "Epoch 10/50\n",
            "57/57 [==============================] - 0s 2ms/step - loss: 0.0753 - accuracy: 0.9802\n",
            "Epoch 11/50\n",
            "57/57 [==============================] - 0s 2ms/step - loss: 0.0697 - accuracy: 0.9846\n",
            "Epoch 12/50\n",
            "57/57 [==============================] - 0s 2ms/step - loss: 0.0653 - accuracy: 0.9890\n",
            "Epoch 13/50\n",
            "57/57 [==============================] - 0s 2ms/step - loss: 0.0621 - accuracy: 0.9868\n",
            "Epoch 14/50\n",
            "57/57 [==============================] - 0s 2ms/step - loss: 0.0595 - accuracy: 0.9868\n",
            "Epoch 15/50\n",
            "57/57 [==============================] - 0s 2ms/step - loss: 0.0573 - accuracy: 0.9890\n",
            "Epoch 16/50\n",
            "57/57 [==============================] - 0s 2ms/step - loss: 0.0553 - accuracy: 0.9890\n",
            "Epoch 17/50\n",
            "57/57 [==============================] - 0s 2ms/step - loss: 0.0536 - accuracy: 0.9890\n",
            "Epoch 18/50\n",
            "57/57 [==============================] - 0s 2ms/step - loss: 0.0525 - accuracy: 0.9890\n",
            "Epoch 19/50\n",
            "57/57 [==============================] - 0s 2ms/step - loss: 0.0507 - accuracy: 0.9890\n",
            "Epoch 20/50\n",
            "57/57 [==============================] - 0s 2ms/step - loss: 0.0493 - accuracy: 0.9890\n",
            "Epoch 21/50\n",
            "57/57 [==============================] - 0s 2ms/step - loss: 0.0479 - accuracy: 0.9890\n",
            "Epoch 22/50\n",
            "57/57 [==============================] - 0s 2ms/step - loss: 0.0472 - accuracy: 0.9890\n",
            "Epoch 23/50\n",
            "57/57 [==============================] - 0s 2ms/step - loss: 0.0458 - accuracy: 0.9890\n",
            "Epoch 24/50\n",
            "57/57 [==============================] - 0s 2ms/step - loss: 0.0451 - accuracy: 0.9890\n",
            "Epoch 25/50\n",
            "57/57 [==============================] - 0s 2ms/step - loss: 0.0437 - accuracy: 0.9912\n",
            "Epoch 26/50\n",
            "57/57 [==============================] - 0s 2ms/step - loss: 0.0431 - accuracy: 0.9890\n",
            "Epoch 27/50\n",
            "57/57 [==============================] - 0s 2ms/step - loss: 0.0422 - accuracy: 0.9890\n",
            "Epoch 28/50\n",
            "57/57 [==============================] - 0s 2ms/step - loss: 0.0413 - accuracy: 0.9912\n",
            "Epoch 29/50\n",
            "57/57 [==============================] - 0s 2ms/step - loss: 0.0402 - accuracy: 0.9912\n",
            "Epoch 30/50\n",
            "57/57 [==============================] - 0s 2ms/step - loss: 0.0392 - accuracy: 0.9912\n",
            "Epoch 31/50\n",
            "57/57 [==============================] - 0s 2ms/step - loss: 0.0389 - accuracy: 0.9912\n",
            "Epoch 32/50\n",
            "57/57 [==============================] - 0s 2ms/step - loss: 0.0379 - accuracy: 0.9912\n",
            "Epoch 33/50\n",
            "57/57 [==============================] - 0s 2ms/step - loss: 0.0369 - accuracy: 0.9912\n",
            "Epoch 34/50\n",
            "57/57 [==============================] - 0s 2ms/step - loss: 0.0359 - accuracy: 0.9912\n",
            "Epoch 35/50\n",
            "57/57 [==============================] - 0s 2ms/step - loss: 0.0350 - accuracy: 0.9912\n",
            "Epoch 36/50\n",
            "57/57 [==============================] - 0s 2ms/step - loss: 0.0348 - accuracy: 0.9912\n",
            "Epoch 37/50\n",
            "57/57 [==============================] - 0s 2ms/step - loss: 0.0340 - accuracy: 0.9912\n",
            "Epoch 38/50\n",
            "57/57 [==============================] - 0s 2ms/step - loss: 0.0332 - accuracy: 0.9912\n",
            "Epoch 39/50\n",
            "57/57 [==============================] - 0s 2ms/step - loss: 0.0321 - accuracy: 0.9912\n",
            "Epoch 40/50\n",
            "57/57 [==============================] - 0s 2ms/step - loss: 0.0313 - accuracy: 0.9934\n",
            "Epoch 41/50\n",
            "57/57 [==============================] - 0s 2ms/step - loss: 0.0307 - accuracy: 0.9912\n",
            "Epoch 42/50\n",
            "57/57 [==============================] - 0s 2ms/step - loss: 0.0302 - accuracy: 0.9934\n",
            "Epoch 43/50\n",
            "57/57 [==============================] - 0s 2ms/step - loss: 0.0295 - accuracy: 0.9934\n",
            "Epoch 44/50\n",
            "57/57 [==============================] - 0s 2ms/step - loss: 0.0295 - accuracy: 0.9934\n",
            "Epoch 45/50\n",
            "57/57 [==============================] - 0s 2ms/step - loss: 0.0287 - accuracy: 0.9934\n",
            "Epoch 46/50\n",
            "57/57 [==============================] - 0s 2ms/step - loss: 0.0278 - accuracy: 0.9934\n",
            "Epoch 47/50\n",
            "57/57 [==============================] - 0s 2ms/step - loss: 0.0270 - accuracy: 0.9934\n",
            "Epoch 48/50\n",
            "57/57 [==============================] - 0s 2ms/step - loss: 0.0265 - accuracy: 0.9934\n",
            "Epoch 49/50\n",
            "57/57 [==============================] - 0s 2ms/step - loss: 0.0262 - accuracy: 0.9934\n",
            "Epoch 50/50\n",
            "57/57 [==============================] - 0s 2ms/step - loss: 0.0257 - accuracy: 0.9934\n"
          ]
        },
        {
          "output_type": "execute_result",
          "data": {
            "text/plain": [
              "<keras.callbacks.History at 0x7f88e34d57d0>"
            ]
          },
          "metadata": {},
          "execution_count": 50
        }
      ]
    },
    {
      "cell_type": "code",
      "metadata": {
        "colab": {
          "base_uri": "https://localhost:8080/"
        },
        "id": "j5Sp_MgkMG0k",
        "outputId": "590718c1-725f-4456-e2d6-51c755d48325"
      },
      "source": [
        "print(model.summary())"
      ],
      "execution_count": null,
      "outputs": [
        {
          "output_type": "stream",
          "name": "stdout",
          "text": [
            "Model: \"sequential_2\"\n",
            "_________________________________________________________________\n",
            " Layer (type)                Output Shape              Param #   \n",
            "=================================================================\n",
            " dense_6 (Dense)             (None, 12)                372       \n",
            "                                                                 \n",
            " dense_7 (Dense)             (None, 8)                 104       \n",
            "                                                                 \n",
            " dense_8 (Dense)             (None, 1)                 9         \n",
            "                                                                 \n",
            "=================================================================\n",
            "Total params: 485\n",
            "Trainable params: 485\n",
            "Non-trainable params: 0\n",
            "_________________________________________________________________\n",
            "None\n"
          ]
        }
      ]
    },
    {
      "cell_type": "code",
      "metadata": {
        "colab": {
          "base_uri": "https://localhost:8080/",
          "height": 422
        },
        "id": "BsWKhTQlMN7o",
        "outputId": "d69ef17a-0ce9-4422-da38-b18078641840"
      },
      "source": [
        "from keras.utils.vis_utils import plot_model\n",
        "plot_model(model, to_file='model_plot.png', show_shapes=True, show_layer_names=True)\n"
      ],
      "execution_count": null,
      "outputs": [
        {
          "output_type": "execute_result",
          "data": {
            "image/png": "[encoded data removed]",
            "text/plain": [
              "<IPython.core.display.Image object>"
            ]
          },
          "metadata": {},
          "execution_count": 52
        }
      ]
    },
    {
      "cell_type": "code",
      "metadata": {
        "id": "u8iYD5RvJgzt"
      },
      "source": [
        "predann=(np.round(model.predict(X_test_ann)))"
      ],
      "execution_count": null,
      "outputs": []
    },
    {
      "cell_type": "code",
      "metadata": {
        "colab": {
          "base_uri": "https://localhost:8080/"
        },
        "id": "Kq9DVILcJ3Wq",
        "outputId": "5ceb61b8-4a83-4305-f0e3-cfaa4e27a300"
      },
      "source": [
        "print(accuracy_score(y_test,predann))"
      ],
      "execution_count": null,
      "outputs": [
        {
          "output_type": "stream",
          "name": "stdout",
          "text": [
            "0.9649122807017544\n"
          ]
        }
      ]
    },
    {
      "cell_type": "code",
      "metadata": {
        "colab": {
          "base_uri": "https://localhost:8080/"
        },
        "id": "bVmsaQVrK7P5",
        "outputId": "13d139cd-abdc-4608-c404-6e43e0d1d3c1"
      },
      "source": [
        "print(f1_score(y_test,predann))"
      ],
      "execution_count": null,
      "outputs": [
        {
          "output_type": "stream",
          "name": "stdout",
          "text": [
            "0.9696969696969696\n"
          ]
        }
      ]
    },
    {
      "cell_type": "code",
      "metadata": {
        "colab": {
          "base_uri": "https://localhost:8080/"
        },
        "id": "uqUWbcSSKlt9",
        "outputId": "b902db27-72bb-4c3c-8cb7-6d2df0ecb9ac"
      },
      "source": [
        "matrix=confusion_matrix(y_test,predann,labels=[1,0])\n",
        "confusion=pd.DataFrame(matrix,index=['Actual Cancer','Actual No Cancer'],columns=['Predicted Cancer','Predicted No Cancer'])\n",
        "print(confusion)"
      ],
      "execution_count": null,
      "outputs": [
        {
          "output_type": "stream",
          "name": "stdout",
          "text": [
            "                  Predicted Cancer  Predicted No Cancer\n",
            "Actual Cancer                   64                    3\n",
            "Actual No Cancer                 1                   46\n"
          ]
        }
      ]
    },
    {
      "cell_type": "code",
      "metadata": {
        "id": "o5N0Y8xLzqqZ"
      },
      "source": [
        "X_train_ann_chi,X_test_ann_chi,y_train,y_test=train_test_split(Xnew,y,test_size=0.2,random_state=0)"
      ],
      "execution_count": null,
      "outputs": []
    },
    {
      "cell_type": "code",
      "metadata": {
        "id": "fWVw2YnMzrW3"
      },
      "source": [
        "scaler=StandardScaler()\n",
        "X_train_ann_chi=scaler.fit_transform(X_train_chi)\n",
        "X_test_ann_chi=scaler.transform(X_test_chi)\n",
        "\n"
      ],
      "execution_count": null,
      "outputs": []
    },
    {
      "cell_type": "code",
      "metadata": {
        "colab": {
          "base_uri": "https://localhost:8080/"
        },
        "id": "PLh73jgwcE7Y",
        "outputId": "e7bb3cfd-4f24-4d64-8169-751da13ee572"
      },
      "source": [
        "model=Sequential()\n",
        "model.add(Dense(4,input_dim=10,activation='relu'))\n",
        "model.add(Dense(4,activation='relu'))\n",
        "model.add(Dense(1,activation='sigmoid'))\n",
        "model.compile(loss='binary_crossentropy',optimizer='adam',metrics=['accuracy'])\n",
        "model.fit(X_train_ann_chi,y_train,epochs=50,batch_size=8)"
      ],
      "execution_count": null,
      "outputs": [
        {
          "output_type": "stream",
          "name": "stdout",
          "text": [
            "Epoch 1/50\n",
            "57/57 [==============================] - 1s 3ms/step - loss: 0.6623 - accuracy: 0.6527\n",
            "Epoch 2/50\n",
            "57/57 [==============================] - 0s 2ms/step - loss: 0.5657 - accuracy: 0.8132\n",
            "Epoch 3/50\n",
            "57/57 [==============================] - 0s 2ms/step - loss: 0.5216 - accuracy: 0.8659\n",
            "Epoch 4/50\n",
            "57/57 [==============================] - 0s 2ms/step - loss: 0.4935 - accuracy: 0.9033\n",
            "Epoch 5/50\n",
            "57/57 [==============================] - 0s 2ms/step - loss: 0.4726 - accuracy: 0.9099\n",
            "Epoch 6/50\n",
            "57/57 [==============================] - 0s 2ms/step - loss: 0.4550 - accuracy: 0.9143\n",
            "Epoch 7/50\n",
            "57/57 [==============================] - 0s 2ms/step - loss: 0.4396 - accuracy: 0.9275\n",
            "Epoch 8/50\n",
            "57/57 [==============================] - 0s 2ms/step - loss: 0.4252 - accuracy: 0.9275\n",
            "Epoch 9/50\n",
            "57/57 [==============================] - 0s 2ms/step - loss: 0.4116 - accuracy: 0.9341\n",
            "Epoch 10/50\n",
            "57/57 [==============================] - 0s 2ms/step - loss: 0.3984 - accuracy: 0.9407\n",
            "Epoch 11/50\n",
            "57/57 [==============================] - 0s 2ms/step - loss: 0.3866 - accuracy: 0.9407\n",
            "Epoch 12/50\n",
            "57/57 [==============================] - 0s 2ms/step - loss: 0.3754 - accuracy: 0.9429\n",
            "Epoch 13/50\n",
            "57/57 [==============================] - 0s 2ms/step - loss: 0.3649 - accuracy: 0.9429\n",
            "Epoch 14/50\n",
            "57/57 [==============================] - 0s 2ms/step - loss: 0.3552 - accuracy: 0.9429\n",
            "Epoch 15/50\n",
            "57/57 [==============================] - 0s 2ms/step - loss: 0.3453 - accuracy: 0.9429\n",
            "Epoch 16/50\n",
            "57/57 [==============================] - 0s 2ms/step - loss: 0.3363 - accuracy: 0.9429\n",
            "Epoch 17/50\n",
            "57/57 [==============================] - 0s 3ms/step - loss: 0.3274 - accuracy: 0.9451\n",
            "Epoch 18/50\n",
            "57/57 [==============================] - 0s 2ms/step - loss: 0.3191 - accuracy: 0.9451\n",
            "Epoch 19/50\n",
            "57/57 [==============================] - 0s 2ms/step - loss: 0.3108 - accuracy: 0.9451\n",
            "Epoch 20/50\n",
            "57/57 [==============================] - 0s 2ms/step - loss: 0.3032 - accuracy: 0.9451\n",
            "Epoch 21/50\n",
            "57/57 [==============================] - 0s 2ms/step - loss: 0.2960 - accuracy: 0.9451\n",
            "Epoch 22/50\n",
            "57/57 [==============================] - 0s 2ms/step - loss: 0.2895 - accuracy: 0.9451\n",
            "Epoch 23/50\n",
            "57/57 [==============================] - 0s 2ms/step - loss: 0.2828 - accuracy: 0.9429\n",
            "Epoch 24/50\n",
            "57/57 [==============================] - 0s 2ms/step - loss: 0.2765 - accuracy: 0.9429\n",
            "Epoch 25/50\n",
            "57/57 [==============================] - 0s 3ms/step - loss: 0.2709 - accuracy: 0.9429\n",
            "Epoch 26/50\n",
            "57/57 [==============================] - 0s 2ms/step - loss: 0.2658 - accuracy: 0.9429\n",
            "Epoch 27/50\n",
            "57/57 [==============================] - 0s 2ms/step - loss: 0.2605 - accuracy: 0.9429\n",
            "Epoch 28/50\n",
            "57/57 [==============================] - 0s 3ms/step - loss: 0.2557 - accuracy: 0.9429\n",
            "Epoch 29/50\n",
            "57/57 [==============================] - 0s 2ms/step - loss: 0.2505 - accuracy: 0.9429\n",
            "Epoch 30/50\n",
            "57/57 [==============================] - 0s 2ms/step - loss: 0.2463 - accuracy: 0.9429\n",
            "Epoch 31/50\n",
            "57/57 [==============================] - 0s 2ms/step - loss: 0.2420 - accuracy: 0.9429\n",
            "Epoch 32/50\n",
            "57/57 [==============================] - 0s 3ms/step - loss: 0.2382 - accuracy: 0.9429\n",
            "Epoch 33/50\n",
            "57/57 [==============================] - 0s 3ms/step - loss: 0.2337 - accuracy: 0.9429\n",
            "Epoch 34/50\n",
            "57/57 [==============================] - 0s 3ms/step - loss: 0.2303 - accuracy: 0.9451\n",
            "Epoch 35/50\n",
            "57/57 [==============================] - 0s 2ms/step - loss: 0.2258 - accuracy: 0.9451\n",
            "Epoch 36/50\n",
            "57/57 [==============================] - 0s 2ms/step - loss: 0.2228 - accuracy: 0.9429\n",
            "Epoch 37/50\n",
            "57/57 [==============================] - 0s 3ms/step - loss: 0.2188 - accuracy: 0.9451\n",
            "Epoch 38/50\n",
            "57/57 [==============================] - 0s 2ms/step - loss: 0.2155 - accuracy: 0.9473\n",
            "Epoch 39/50\n",
            "57/57 [==============================] - 0s 2ms/step - loss: 0.2122 - accuracy: 0.9451\n",
            "Epoch 40/50\n",
            "57/57 [==============================] - 0s 2ms/step - loss: 0.2092 - accuracy: 0.9451\n",
            "Epoch 41/50\n",
            "57/57 [==============================] - 0s 3ms/step - loss: 0.2059 - accuracy: 0.9473\n",
            "Epoch 42/50\n",
            "57/57 [==============================] - 0s 2ms/step - loss: 0.2029 - accuracy: 0.9473\n",
            "Epoch 43/50\n",
            "57/57 [==============================] - 0s 2ms/step - loss: 0.2000 - accuracy: 0.9451\n",
            "Epoch 44/50\n",
            "57/57 [==============================] - 0s 2ms/step - loss: 0.1972 - accuracy: 0.9451\n",
            "Epoch 45/50\n",
            "57/57 [==============================] - 0s 2ms/step - loss: 0.1941 - accuracy: 0.9451\n",
            "Epoch 46/50\n",
            "57/57 [==============================] - 0s 2ms/step - loss: 0.1906 - accuracy: 0.9451\n",
            "Epoch 47/50\n",
            "57/57 [==============================] - 0s 3ms/step - loss: 0.1879 - accuracy: 0.9451\n",
            "Epoch 48/50\n",
            "57/57 [==============================] - 0s 2ms/step - loss: 0.1853 - accuracy: 0.9451\n",
            "Epoch 49/50\n",
            "57/57 [==============================] - 0s 2ms/step - loss: 0.1817 - accuracy: 0.9516\n",
            "Epoch 50/50\n",
            "57/57 [==============================] - 0s 2ms/step - loss: 0.1781 - accuracy: 0.9538\n"
          ]
        },
        {
          "output_type": "execute_result",
          "data": {
            "text/plain": [
              "<keras.callbacks.History at 0x7f87c72dda50>"
            ]
          },
          "metadata": {},
          "execution_count": 83
        }
      ]
    },
    {
      "cell_type": "code",
      "metadata": {
        "colab": {
          "base_uri": "https://localhost:8080/"
        },
        "id": "SjUgDqvHeu8a",
        "outputId": "ff9d7fd8-10e1-4d44-f053-a0a5ccaa87d8"
      },
      "source": [
        "model.summary()"
      ],
      "execution_count": null,
      "outputs": [
        {
          "output_type": "stream",
          "name": "stdout",
          "text": [
            "Model: \"sequential_5\"\n",
            "_________________________________________________________________\n",
            " Layer (type)                Output Shape              Param #   \n",
            "=================================================================\n",
            " dense_15 (Dense)            (None, 4)                 44        \n",
            "                                                                 \n",
            " dense_16 (Dense)            (None, 4)                 20        \n",
            "                                                                 \n",
            " dense_17 (Dense)            (None, 1)                 5         \n",
            "                                                                 \n",
            "=================================================================\n",
            "Total params: 69\n",
            "Trainable params: 69\n",
            "Non-trainable params: 0\n",
            "_________________________________________________________________\n"
          ]
        }
      ]
    },
    {
      "cell_type": "code",
      "metadata": {
        "colab": {
          "base_uri": "https://localhost:8080/",
          "height": 422
        },
        "id": "c6h-z3DAdhCT",
        "outputId": "cd9443b4-f183-4140-a2c9-5990c6d22aec"
      },
      "source": [
        "\n",
        "plot_model(model, to_file='model_plot1.png', show_shapes=True, show_layer_names=True)\n"
      ],
      "execution_count": null,
      "outputs": [
        {
          "output_type": "execute_result",
          "data": {
            "image/png": "[encoded data removed]",
            "text/plain": [
              "<IPython.core.display.Image object>"
            ]
          },
          "metadata": {},
          "execution_count": 72
        }
      ]
    },
    {
      "cell_type": "code",
      "metadata": {
        "id": "AIaojv_1dq3u"
      },
      "source": [
        "predannchi=(np.round(model.predict(X_test_ann_chi)))"
      ],
      "execution_count": null,
      "outputs": []
    },
    {
      "cell_type": "code",
      "metadata": {
        "colab": {
          "base_uri": "https://localhost:8080/"
        },
        "id": "AZ0WUBY6e8oU",
        "outputId": "19e67a63-0857-47e4-f949-b4ea6de60c16"
      },
      "source": [
        "print(accuracy_score(y_test,predannchi))"
      ],
      "execution_count": null,
      "outputs": [
        {
          "output_type": "stream",
          "name": "stdout",
          "text": [
            "0.9385964912280702\n"
          ]
        }
      ]
    },
    {
      "cell_type": "code",
      "metadata": {
        "colab": {
          "base_uri": "https://localhost:8080/"
        },
        "id": "f8OCt1ecdzuP",
        "outputId": "48c7e017-2795-4c6c-8520-ee0ed8cf35ef"
      },
      "source": [
        "print(f1_score(y_test,predannchi))"
      ],
      "execution_count": null,
      "outputs": [
        {
          "output_type": "stream",
          "name": "stdout",
          "text": [
            "0.9465648854961832\n"
          ]
        }
      ]
    },
    {
      "cell_type": "code",
      "metadata": {
        "colab": {
          "base_uri": "https://localhost:8080/"
        },
        "id": "FrCgFLDkLxUk",
        "outputId": "33c51fe0-89cc-4b61-ea81-dd666c2edd4c"
      },
      "source": [
        "matrix=confusion_matrix(y_test,predannchi,labels=[1,0])\n",
        "confusion=pd.DataFrame(matrix,index=['Actual Cancer','Actual No Cancer'],columns=['Predicted Cancer','Predicted No Cancer'])\n",
        "print(confusion)"
      ],
      "execution_count": null,
      "outputs": [
        {
          "output_type": "stream",
          "name": "stdout",
          "text": [
            "                  Predicted Cancer  Predicted No Cancer\n",
            "Actual Cancer                   64                    3\n",
            "Actual No Cancer                 4                   43\n"
          ]
        }
      ]
    },
    {
      "cell_type": "code",
      "metadata": {
        "colab": {
          "base_uri": "https://localhost:8080/",
          "height": 457
        },
        "id": "fXI0tpOlV-r0",
        "outputId": "e9adf24f-70fe-4cbb-eed8-a47f31227ab3"
      },
      "source": [
        "from sklearn.metrics import roc_curve, auc\n",
        "ann_fpr, ann_tpr, threshold = roc_curve(y_test, predann)\n",
        "auc_ann = auc(ann_fpr, ann_tpr)\n",
        "annchi_fpr, annchi_tpr, threshold = roc_curve(y_test, predannchi)\n",
        "auc_annchi = auc(ann_fpr, ann_tpr)\n",
        "\n",
        "\n",
        "svm_fpr, svm_tpr, threshold = roc_curve(y_test, predsvm)\n",
        "auc_svm = auc(svm_fpr, svm_tpr)\n",
        "\n",
        "plt.figure(figsize=(5, 5), dpi=100)\n",
        "plt.plot(ann_fpr, ann_tpr, linestyle='-', label='ANN (auc = %0.3f)' % auc_ann)\n",
        "plt.plot(svm_fpr, svm_tpr, linestyle='-', label='SVM (auc = %0.3f)' % auc_svm)\n",
        "plt.plot(annchi_fpr, annchi_tpr, linestyle='-', label='ANN chi (auc = %0.3f)' % auc_annchi)\n",
        "\n",
        "\n",
        "plt.xlabel('False Positive Rate -->')\n",
        "plt.ylabel('True Positive Rate -->')\n",
        "\n",
        "plt.legend()\n",
        "\n",
        "plt.show()"
      ],
      "execution_count": null,
      "outputs": [
        {
          "output_type": "display_data",
          "data": {
            "image/png": "[encoded data removed]",
            "text/plain": [
              "<Figure size 500x500 with 1 Axes>"
            ]
          },
          "metadata": {
            "needs_background": "light"
          }
        }
      ]
    }
  ]
}